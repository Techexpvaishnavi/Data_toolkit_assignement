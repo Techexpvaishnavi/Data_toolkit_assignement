{
 "cells": [
  {
   "cell_type": "markdown",
   "id": "a10413c6-383c-44eb-aef2-e4b8316de626",
   "metadata": {},
   "source": [
    "<h1 align=\"center\"><font color=\"orange\">Assignment <br><br> Numpy</font></h1>"
   ]
  },
  {
   "cell_type": "markdown",
   "id": "eea6f865-cf47-46de-8977-20195e01d7be",
   "metadata": {},
   "source": [
    "# Theory Question  "
   ]
  },
  {
   "cell_type": "markdown",
   "id": "fcb14c1c-de03-48ce-8fb5-b74f5e1ccbb6",
   "metadata": {},
   "source": [
    "<hr style=\"border:0.3px solid orange; width:100%\"></hr>"
   ]
  },
  {
   "cell_type": "markdown",
   "id": "1fcdcba8-71f0-4fa0-8582-ea215dbf859a",
   "metadata": {},
   "source": [
    "## Q1. Explain the purpose and advantages of Numpy in scientific computing and data analysis  .How does it enhances Python's capabilities for numerical operations?"
   ]
  },
  {
   "cell_type": "markdown",
   "id": "93473d57-77f9-4fe3-b00f-81a886a7b73b",
   "metadata": {},
   "source": [
    "<b>Numpy</b> is a general-purpose array-processing package . It provides a high -performance multidimensional array object, and tools for working with these arrays.It is the fundamental package for scientific computing with Python .   \n",
    "<b> Advantages of Numpy-:</b> \n",
    "- <b>performance</b>: Numpy array operation are executing at compiled C  speed ,making  them significantly faster than equialent operations performed using Python lists. The performance boost is vital for handling large datasets and complex compution efficiently.\n",
    "-  <b>Memory Efficiency </b> : Numpy memory are contiguous memory block , reducing overhead compared to python lists. This memory efficiency is essenttial when dealing with extensive datasets and enables faster data acesss and manipulation .\n",
    "-  <b>Extensive Mathematical Functions:</b> Numpy provides a rich collection of Mathmatical functions ,making it an indispensable tool for scienctific computing, liner algebra ,statistics and more . These functios streamline complex caluculation and data transformations.\n",
    "-  <b> Interoperability:</b> Numpy integrates with other liberary and tools in the scientific python ecosystem ,such as Scipy,Pandas ,Matplotlib etc.\n",
    "This integration allow for  comprehensive data analysis ,visualization, and machine learning .\n",
    "\n",
    "\n",
    "<b> Use Cases:</b>  \n",
    "-  <b>Data Analysis and Preprocessing:</b> Nump is widely used in data analysis task,including data cleaning ,manipulation and transformation  , due to its efficient array operation and mathmatical functinalities.\n",
    "-  <b> Scientific Computing :</b> Application inn physics ,biology,engineering and finance leverage Numpy for sumlations,solving differentials  equations ,numerical integration and more.\n",
    "-  <b>Machine leanings :</b>  Numpy forms the backbone of many machine learnings algorithms by handling data representtation and mathemaical computations efficiently,supporting task like features extraction ,data normalization and model evaluation.\n",
    "\n",
    "### How does it enhance python capabilities for numerical operations:    \n",
    "Numpy is built around the idea of homogenuous data array.Although Numpy array can specify and support various data types ,any array created in Numpy.  should only one desired data types -- a different array can be made for a different data type.  \n",
    "This approach requires less memory and allow more efficient system performance when processing mathematical operation on array elements.  \n"
   ]
  },
  {
   "cell_type": "code",
   "execution_count": 58,
   "id": "c45e935e-54b6-4522-9a53-08a21194f1cd",
   "metadata": {},
   "outputs": [
    {
     "name": "stdout",
     "output_type": "stream",
     "text": [
      "multiplication of both array:\n",
      " [[31 33 31]\n",
      " [65 69 65]]\n"
     ]
    }
   ],
   "source": [
    "# multiplication of two array\n",
    "import numpy as np\n",
    "a=np.array([[1,2,3],[3,4,5]])\n",
    "b=np.array([[6,7,8],[8,7,4],[3,4,5]])\n",
    "print(\"multiplication of both array:\\n\",a@b)"
   ]
  },
  {
   "cell_type": "markdown",
   "id": "92cf72fd-b3d8-4e6c-833f-4c1a181b4d0b",
   "metadata": {},
   "source": [
    "***"
   ]
  },
  {
   "cell_type": "markdown",
   "id": "7488441e-4db3-485b-8ac2-96778caac986",
   "metadata": {},
   "source": [
    "## Q2. Compare and contrast np.mean() and np.average()function in Numpy. When would you use one over the other?"
   ]
  },
  {
   "cell_type": "markdown",
   "id": "0cf4a5d4-768d-4dee-9e75-065bc5a963aa",
   "metadata": {},
   "source": [
    "<table>\n",
    "    <tr>\n",
    "        <th>np.mean()</th>\n",
    "        <th>np.average()</th>\n",
    "    </tr>\n",
    "    <tr>\n",
    "        <td>Use to calculate arithmetic mean</td>\n",
    "        <td>use to calculate the arithmetic mean as well as weighted average</td>\n",
    "    </tr>\n",
    "    <tr>\n",
    "        <td>All elements have equal weight </td>\n",
    "        <td> All elements may or may not have equal weight</td>\n",
    "    </tr>\n",
    "    <tr>\n",
    "        <td> Weight can not be passed through the parameter of he given function .</td>\n",
    "        <td>Weight can be passed through the parameter of the given function</td>\n",
    "    </tr>\n",
    "    <tr>\n",
    "        <td>Syntax: np.mean(arr,axis=None)</td>\n",
    "        <td>Syntax: np.average(arr,axis=None,weights=None)</td>\n",
    "    </tr>\n",
    "    <tr>\n",
    "        <th></th>\n",
    "        <th></th>\n",
    "    </tr>\n",
    "</table>"
   ]
  },
  {
   "cell_type": "code",
   "execution_count": 59,
   "id": "d92f321c-4e4a-46d1-91e0-e6376f933dfa",
   "metadata": {},
   "outputs": [
    {
     "name": "stdout",
     "output_type": "stream",
     "text": [
      "mean of data [3.  5.4]\n"
     ]
    }
   ],
   "source": [
    "# Expample np.mean()\n",
    "import numpy as np\n",
    "data=np.array([[1,2,3,4,5],[4,5,6,8,4]])\n",
    "print(\"mean of data\",np.mean(data,axis=1))"
   ]
  },
  {
   "cell_type": "code",
   "execution_count": 60,
   "id": "10ecd9d0-b9a2-4b0b-bba5-628a91c36455",
   "metadata": {},
   "outputs": [
    {
     "name": "stdout",
     "output_type": "stream",
     "text": [
      "average  of data : [3.  5.4] \n",
      "weight of data: [2.71428571 5.34615385]\n"
     ]
    }
   ],
   "source": [
    "# example np.average\n",
    "import numpy as np \n",
    "data=np.array([[1,2,3,4,5],[4,5,6,8,4]])\n",
    "weights=np.array([[9,8,7,6,5],[8,3,2,7,6]])\n",
    "print(\"average  of data :\",np.average(data,axis=1,),\"\\nweight of data:\",np.average(data,axis=1,weights=weights))"
   ]
  },
  {
   "cell_type": "markdown",
   "id": "15b43d8a-60e9-4287-8376-c75e121f44d3",
   "metadata": {},
   "source": [
    "***"
   ]
  },
  {
   "cell_type": "markdown",
   "id": "150a2d4b-9222-4bcb-b2fb-def695a6e835",
   "metadata": {},
   "source": [
    "## Q3. Describe the methods for reversing a Numpy array along different axes .Provides example for 1D and 2D array?"
   ]
  },
  {
   "cell_type": "markdown",
   "id": "f18e4524-e10d-46c0-b7a7-73ee5db37dac",
   "metadata": {},
   "source": [
    "### using flip() : The numpy.flip() function reverse the order of array elements along the specified axis,preserving the shape of the array.\n"
   ]
  },
  {
   "cell_type": "code",
   "execution_count": 89,
   "id": "be34bc96-e4df-49b2-8c9a-9f36e2b687c9",
   "metadata": {},
   "outputs": [
    {
     "name": "stdout",
     "output_type": "stream",
     "text": [
      "reverse numpy 1D array: [7 6 5 4 3 2 1]\n"
     ]
    }
   ],
   "source": [
    "# 1D arrayy\n",
    "import numpy as np\n",
    "arr=np.asarray([1,2,3,4,5,6,7])\n",
    "print(\"reverse numpy 1D array:\",np.flip(arr))"
   ]
  },
  {
   "cell_type": "code",
   "execution_count": 62,
   "id": "e52c8b99-b53f-44c4-af09-ef57a4034e38",
   "metadata": {},
   "outputs": [
    {
     "name": "stdout",
     "output_type": "stream",
     "text": [
      "reverse numpy 2D array specified axis :\n",
      " [[4 3 2 1]\n",
      " [8 7 6 5]]\n",
      "reverse numpy 2D array specified axis :\n",
      " [[5 6 7 8]\n",
      " [1 2 3 4]]\n",
      "reverse numpy 2D array :\n",
      " [[8 7 6 5]\n",
      " [4 3 2 1]]\n"
     ]
    }
   ],
   "source": [
    "# 2D array\n",
    "import numpy as np\n",
    "arr1= np.asanyarray([[1,2,3,4],[5,6,7,8]])\n",
    "print(\"reverse numpy 2D array specified axis :\\n\",np.flip(arr1,axis=1))\n",
    "print(\"reverse numpy 2D array specified axis :\\n\",np.flip(arr1,axis=0))\n",
    "print(\"reverse numpy 2D array :\\n\",np.flip(arr1))"
   ]
  },
  {
   "cell_type": "markdown",
   "id": "e345bd95-097f-4d2e-b932-e3beb8b43cd1",
   "metadata": {},
   "source": [
    "### using list_slicing method : This method makes a copy of the list instead of sorting it in oreder .To accommodate all of the current components  making a clone requires additionl room. More RAM used in this way "
   ]
  },
  {
   "cell_type": "code",
   "execution_count": 63,
   "id": "4b562bb9-2cab-4d99-90e2-fc0427c97c9f",
   "metadata": {},
   "outputs": [
    {
     "name": "stdout",
     "output_type": "stream",
     "text": [
      "reverse 1D array using list_slicing [4 5 9 8 7]\n"
     ]
    }
   ],
   "source": [
    "# reverse 1D array\n",
    "import numpy as np\n",
    "arr2=np.asarray([7,8,9,5,4])\n",
    "print(\"reverse 1D array using list_slicing\",arr2[::-1])"
   ]
  },
  {
   "cell_type": "code",
   "execution_count": 64,
   "id": "3b1a0741-f66c-4ec5-af2c-dbb452b5b2ef",
   "metadata": {},
   "outputs": [
    {
     "name": "stdout",
     "output_type": "stream",
     "text": [
      "reverse 2D array using list_slicing\n",
      " [[4 5 6 7 8]\n",
      " [7 8 9 5 4]]\n"
     ]
    }
   ],
   "source": [
    "# reverse 2D array\n",
    "import numpy as np\n",
    "arr3=np.asarray([[7,8,9,5,4],[4,5,6,7,8]])\n",
    "print(\"reverse 2D array using list_slicing\\n\",arr3[::-1])"
   ]
  },
  {
   "cell_type": "markdown",
   "id": "736c39b9-68e1-42a5-8e0d-05298bd7c547",
   "metadata": {},
   "source": [
    "### numpy.flipud() : filps the arrays in up-town direction,shape preserved"
   ]
  },
  {
   "cell_type": "code",
   "execution_count": 65,
   "id": "16a98541-852e-4c4e-9940-4a1f90b62921",
   "metadata": {},
   "outputs": [
    {
     "name": "stdout",
     "output_type": "stream",
     "text": [
      "reverse 1D arrayy using flipud(): [7 6 5 9 8]\n"
     ]
    }
   ],
   "source": [
    "# 1D array \n",
    "import numpy as np\n",
    "a=np.array([8,9,5,6,7])\n",
    "print(\"reverse 1D arrayy using flipud():\",np.flipud(a))"
   ]
  },
  {
   "cell_type": "code",
   "execution_count": 66,
   "id": "04a4e0a1-e577-4c92-bab4-c65125397761",
   "metadata": {},
   "outputs": [
    {
     "name": "stdout",
     "output_type": "stream",
     "text": [
      "original array : \n",
      " [[8 9 5 6 7]\n",
      " [4 5 6 7 9]]\n",
      "reverse 2D arrayy using flipud():\n",
      " [[4 5 6 7 9]\n",
      " [8 9 5 6 7]]\n"
     ]
    }
   ],
   "source": [
    "# 2D array \n",
    "import numpy as np\n",
    "a1=np.array([[8,9,5,6,7],[4,5,6,7,9]])\n",
    "print(\"original array : \\n\",a1)\n",
    "print(\"reverse 2D arrayy using flipud():\\n\",np.flipud(a1))"
   ]
  },
  {
   "cell_type": "markdown",
   "id": "d2e05814-f2c7-4793-995c-c57fe68b4502",
   "metadata": {},
   "source": [
    "***"
   ]
  },
  {
   "cell_type": "markdown",
   "id": "eb618b3c-0f8b-4eca-bdc6-2b881f56feca",
   "metadata": {},
   "source": [
    "## Q4. How can you determine the data type of elements in Numpy array? Disucuss the importance of data types in memory management  and performance ?"
   ]
  },
  {
   "cell_type": "markdown",
   "id": "1ede55b5-37f2-4c79-9b8e-581918f17e83",
   "metadata": {},
   "source": [
    "### Data types of Array : you can check the types of data present in the numpy array using the 'dtype' attribute.   \n",
    "By default python have these data types:   \n",
    "- strings- used to represents text data,the text is given unique quote marks.\n",
    "- integer- used to represents integer numbers.\n",
    "- float- used to represents real numbers.\n",
    "- boolean- used to represent True or False\n",
    "- complex- used to represent complex numbers.\n"
   ]
  },
  {
   "cell_type": "code",
   "execution_count": 67,
   "id": "bf918444-a2f4-459e-a509-ad7d5e7d6c10",
   "metadata": {},
   "outputs": [
    {
     "name": "stdout",
     "output_type": "stream",
     "text": [
      "types of a: int32\n",
      "types of b: float64\n",
      "types of c: <U4\n",
      "types of d: bool\n",
      "types of e: complex128\n"
     ]
    }
   ],
   "source": [
    "import numpy as np\n",
    "a=np.array([2,3,4])\n",
    "b=np.array([2.3,4.5,7.8])\n",
    "c=np.array([\"ram\",\"sita\"])\n",
    "d=np.array([True,False])\n",
    "e=np.array([3+4j,5+6j])\n",
    "print(\"types of a:\",a.dtype)\n",
    "print(\"types of b:\",b.dtype)\n",
    "print(\"types of c:\",c.dtype)\n",
    "print(\"types of d:\",d.dtype)\n",
    "print(\"types of e:\",e.dtype)"
   ]
  },
  {
   "cell_type": "markdown",
   "id": "5a67ce04-70c9-4be1-9980-02c5688b9e9d",
   "metadata": {},
   "source": [
    "### Disucuss the importance of data types in memory management and performance :-\n",
    " A data types is an attribute associated witha piece of data that tells a computer system how to inerpret its value .Understanding data types ensures that data is collectedin the preferred format and value of each property is as expected."
   ]
  },
  {
   "cell_type": "markdown",
   "id": "356516d4-06d5-4c36-8088-db96b6a07aee",
   "metadata": {},
   "source": [
    "***"
   ]
  },
  {
   "cell_type": "markdown",
   "id": "d5a63ce2-fb13-434f-a714-259a1e470196",
   "metadata": {},
   "source": [
    "## Q5. Define ndarrays in Numpy and explain their key features . How do they differ from standard Python list?"
   ]
  },
  {
   "cell_type": "markdown",
   "id": "cddaf03b-fa09-427b-8191-9c6a29736e32",
   "metadata": {},
   "source": [
    "The primary data structure in Numpyy is the N-dimensional array -- called an ndarray or simple an array. Every ndarray is a fixed-size array that is kept in memory and contans the same type of data such as integer or floating-point numbers.  \n",
    "An ndarray can possess up to three dimensions including array length, width,and height or layers .The data type used in the arrayy is specified through the dtype attribute assigned to the array.    \n",
    "### Feature of Numpy :  \n",
    "- Multi-Dimensional : It provides convenient way to create ,manipulate and perform operation on array of arbitary dimensions. This makes it ideal for handling large datasets,imagesand other types of numerical data.\n",
    "- Broadcasting : It allow Numpy to operate on arrays of different dimensions and shapes without the need for explicit loops.When we perform an operation between two arrays with different shapes , numpy tries to broadcast the arrays to a common shape before performing the operation.\n",
    "- vectorized Operation : These operation are performed element -wise on array , and they are much faster then using expicit loops.\n",
    "- Indexing and Slicing : It can be sliced along an axis , and you can use Boolean indexing to select elements that meet certain criteria\n",
    "- Array-Manipulation : Numpy provides a wide range of functions for manipulating arrays. You can concatenate,stack,split and resahape array and ou can tranpose and flatten array.\n",
    "- Linear-algebra : It includes a linear algebra ,library that provides function for performing such operation such as matrix multiplication,determinantts and eigenvalues.\n",
    "\n",
    "### How do they differ from standard Python list?¶\n",
    "\n",
    "<table>\n",
    "    <tr>\n",
    "        <th>Feature </th>\n",
    "        <th>Arrays</th>\n",
    "        <th>List</th>\n",
    "    </tr>\n",
    "    <tr>\n",
    "        <td>Homogenity</td>\n",
    "        <td> All Element must be of the same type</td>\n",
    "        <td>It can contain elementsof different types</td>\n",
    "    </tr>\n",
    "    <tr>\n",
    "        <td>Size-Flexibility</td>\n",
    "        <td>Fixed-size once created</td>\n",
    "        <td>Dynamic size : can grow or shrink as needed</td>\n",
    "    </tr>\n",
    "    <tr>\n",
    "        <td>Memory Efficiency</td>\n",
    "        <td>More memory efficient due to homogeneity</td>\n",
    "        <td>Less memory efficient due to the potential type variablity</td>\n",
    "    </tr>\n",
    "    <tr>\n",
    "        <td>Built in methods</td>\n",
    "        <td>fewer built-in method</td>\n",
    "        <td>Rich set of built-in methods for various operations </td>\n",
    "    </tr>\n",
    "    <tr>\n",
    "        <td>Data access</td>\n",
    "        <td>Direct access using index</td>\n",
    "        <td>Direct access using index</td>\n",
    "    </tr>\n",
    "    <tr>\n",
    "        <td>Type Specification</td>\n",
    "        <td> Require a type code during creation</td>\n",
    "        <td>No type specification is needed</td>\n",
    "    </tr>\n",
    "    \n",
    "</table>"
   ]
  },
  {
   "cell_type": "code",
   "execution_count": 68,
   "id": "51b3896d-ee2b-426d-a3f1-5ecb5fad6842",
   "metadata": {},
   "outputs": [
    {
     "name": "stdout",
     "output_type": "stream",
     "text": [
      "original n-array: [[[[0. 0. 0. 0.]\n",
      "   [0. 0. 0. 0.]\n",
      "   [0. 0. 0. 0.]]]]\n",
      "dimension of n-array: 4\n",
      "shape of n-array: (1, 1, 3, 4)\n",
      "size of n-arrayy: 12\n"
     ]
    }
   ],
   "source": [
    "import numpy as np\n",
    "a=np.zeros((1,1,3,4))\n",
    "print(\"original n-array:\",a)\n",
    "print(\"dimension of n-array:\",a.ndim)\n",
    "print(\"shape of n-array:\",a.shape)\n",
    "print(\"size of n-arrayy:\",a.size)"
   ]
  },
  {
   "cell_type": "markdown",
   "id": "ce9ab723-2130-4265-9dda-2eac8fea3e45",
   "metadata": {},
   "source": [
    "***"
   ]
  },
  {
   "cell_type": "markdown",
   "id": "780eb6fc-0e30-41dc-baa1-02e6861e5fd4",
   "metadata": {},
   "source": [
    "## Q6. Analyze the performance denefit of Numpy arrays over Python list for large-scale numerical operations?"
   ]
  },
  {
   "cell_type": "markdown",
   "id": "1ce231ed-409d-4099-aa83-6de7112cb152",
   "metadata": {},
   "source": [
    "### Numpy array :  \n",
    "- we can create an N-dimensional array in Pyhon using Numpy.array()\n",
    "- Element- wise operation is possible\n",
    "- Numpy array has various function ,methods, and variables , to ease our task of matrix computation\n",
    "\n",
    "  ### Python list:\n",
    "- The list can be homogenuous or hetterogenuous .\n",
    "- Element - wise operation is not possible on the list\n",
    "- Element of a list need not be contiguous in memory\n",
    "- \n",
    "### Performance:   \n",
    "Numpy arrayy operations are executed at compiled C speed ,making them significantly faster than equivalent operations performed using Pyhon list.\n",
    "This performance boost is vital for handling large datasets and complex computations efficiently\n",
    "\n",
    "\n",
    "\n",
    "\n"
   ]
  },
  {
   "cell_type": "code",
   "execution_count": 69,
   "id": "f5f41975-9595-40b2-b7a3-f63d95e9d0ba",
   "metadata": {},
   "outputs": [
    {
     "name": "stdout",
     "output_type": "stream",
     "text": [
      "sum of two array : [ 5  7  9 11]\n",
      "subraction of two array : [-3 -3 -3 -3]\n",
      "multiplication of two array : [ 4 10 18 28]\n"
     ]
    }
   ],
   "source": [
    "#Example: Numpy array\n",
    "import numpy as np\n",
    "a=np.array([1,2,3,4])\n",
    "b=np.array([4,5,6,7])\n",
    "print(\"sum of two array :\",np.add(a,b))\n",
    "print(\"subraction of two array :\",np.subtract(a,b))\n",
    "print(\"multiplication of two array :\",np.multiply(a,b))\n",
    "\n",
    "\n"
   ]
  },
  {
   "cell_type": "markdown",
   "id": "37439cad-255a-48de-91a1-6d44bb6403a3",
   "metadata": {},
   "source": [
    "***"
   ]
  },
  {
   "cell_type": "markdown",
   "id": "bcf43dd4-05ef-4e38-83af-9c1d1b77450b",
   "metadata": {},
   "source": [
    "## Q7. Compare vstack() and hstack() functions in Numpy Provides example demonstrating their usage and output?"
   ]
  },
  {
   "cell_type": "markdown",
   "id": "c5e0d2ff-0d94-4fb9-8eb6-be73372e2c15",
   "metadata": {},
   "source": [
    "### numpy.vstack():   It is a tool in Python liberary that allow you to stack arrays vertically . In simpler terms,it takes a sequence of arrays and stacks them vertically to make a single array.\n",
    "    Syntax:  numpy.vstack(tup)"
   ]
  },
  {
   "cell_type": "code",
   "execution_count": 70,
   "id": "ce06c8ab-3d2e-4c20-8740-9dde86f498da",
   "metadata": {
    "scrolled": true
   },
   "outputs": [
    {
     "name": "stdout",
     "output_type": "stream",
     "text": [
      "stack arrays vertically:\n",
      " [[89 76 54 34]\n",
      " [56 43  2 34]]\n"
     ]
    }
   ],
   "source": [
    "#Example: np.vstack()\n",
    "import numpy as np \n",
    "a=np.asarray([89,76,54,34])\n",
    "b=np.asarray([56,43,2,34])\n",
    "print(\"stack arrays vertically:\\n\",np.vstack((a,b)))"
   ]
  },
  {
   "cell_type": "markdown",
   "id": "185dd96c-9455-4b17-aa6f-85bb0509138c",
   "metadata": {},
   "source": [
    "### numpy.hstack():-  It is used to stack tthe sequence of input arrays horizontally to make a single array.\n",
    "  Syntax:  numpy.hstack(tup)"
   ]
  },
  {
   "cell_type": "code",
   "execution_count": 71,
   "id": "54cfb0c2-8aab-456d-80a1-e893551c281c",
   "metadata": {},
   "outputs": [
    {
     "name": "stdout",
     "output_type": "stream",
     "text": [
      "stack arrays vertically:\n",
      " [89 76 54 34 56 43  2 34]\n"
     ]
    }
   ],
   "source": [
    "#Example: np.hstack()\n",
    "import numpy as np \n",
    "a=np.asarray([89,76,54,34])\n",
    "b=np.asarray([56,43,2,34])\n",
    "print(\"stack arrays vertically:\\n\",np.hstack((a,b)))"
   ]
  },
  {
   "cell_type": "markdown",
   "id": "50785e2a-5627-475c-9b5a-a8967593e8b5",
   "metadata": {},
   "source": [
    "***"
   ]
  },
  {
   "cell_type": "markdown",
   "id": "2ebcc20e-ee44-47cf-8f1e-2371ccef2c3a",
   "metadata": {},
   "source": [
    "## Q8. Explain the differences between fliplr() and flipud() method in Numpy ,including their effects on various array dimensons?"
   ]
  },
  {
   "cell_type": "markdown",
   "id": "21031df9-f2d3-47c7-8c7c-9c1512624527",
   "metadata": {},
   "source": [
    "### numpy.flipud():   It use to flip ndarray verticle means up and down.\n",
    "numpy.flipud() return a view . Becauses  view shares memory with the original array,changing one value changes the other  "
   ]
  },
  {
   "cell_type": "code",
   "execution_count": 72,
   "id": "582c28aa-1b22-4cb9-b920-b3986361e9c3",
   "metadata": {},
   "outputs": [
    {
     "name": "stdout",
     "output_type": "stream",
     "text": [
      "[[67 89 45 34 23]\n",
      " [56 78 76 45 34]]\n"
     ]
    }
   ],
   "source": [
    "import numpy as np\n",
    "a=np.array([56,78,76,45,34])\n",
    "b=np.array([67,89,45,34,23])\n",
    "print(np.flipud((a,b)))"
   ]
  },
  {
   "cell_type": "markdown",
   "id": "c317d3de-c169-48ea-a3ea-8d800dc372af",
   "metadata": {},
   "source": [
    "### numpy.fliplr(): Itt use ndarray horizonttally means left and right  "
   ]
  },
  {
   "cell_type": "code",
   "execution_count": 73,
   "id": "07eed95b-8beb-4f7f-b43b-70d465a5de36",
   "metadata": {},
   "outputs": [
    {
     "name": "stdout",
     "output_type": "stream",
     "text": [
      "[[34 45 76 78 56]\n",
      " [23 34 45 89 67]]\n"
     ]
    }
   ],
   "source": [
    "import numpy as np\n",
    "a=np.array([56,78,76,45,34])\n",
    "b=np.array([67,89,45,34,23])\n",
    "print(np.fliplr((a,b)))"
   ]
  },
  {
   "cell_type": "markdown",
   "id": "4d8b460c-5151-46b8-b776-dc54b3a1cd66",
   "metadata": {},
   "source": [
    "***"
   ]
  },
  {
   "cell_type": "markdown",
   "id": "2b72bac6-48fe-44ad-9045-0ffd69c60457",
   "metadata": {},
   "source": [
    "## Q9. Discuss the functionality of the array_split() method in Numpy . How does it handle uneven splits?"
   ]
  },
  {
   "cell_type": "markdown",
   "id": "dfc4d526-aca0-4e37-aebc-c81b7d231292",
   "metadata": {},
   "source": [
    "Array splitting in NumPy is like a slice of cake . Think of each element in a NumPy array as a slice of cake .Splitting divides this cake into smaller \"slices\".  \n",
    "Splitting ia reverse operation of joining .  \n",
    "joining merge multiple arrays into one and Splitting breaks one array into multiple  \n",
    "We use array_split() for splitting arrays,we pass it the array we want to split and the number of splits.   \n",
    "\n",
    "### Axis:  \n",
    "The dimensions along which the array is split.\n",
    "### Sub-arrays:  \n",
    "The smaller arrays resulting from the split.  \n",
    "### Splitting method :  \n",
    "Different functions in NumPy for splitting arrays  \n",
    "### Equal vs Unequal :    \n",
    "Whether the sub -arrays have the same size or not\n"
   ]
  },
  {
   "cell_type": "code",
   "execution_count": 74,
   "id": "8110fa48-5e52-45f4-a73b-f1122547a6ab",
   "metadata": {},
   "outputs": [
    {
     "name": "stdout",
     "output_type": "stream",
     "text": [
      "split of single array: [array([2, 3, 4]), array([5, 6, 7])]\n"
     ]
    }
   ],
   "source": [
    "import numpy as np\n",
    "arr=np.asarray([2,3,4,5,6,7])\n",
    "print(\"split of single array:\",np.array_split(arr,2))"
   ]
  },
  {
   "cell_type": "markdown",
   "id": "a3321ad1-e1b8-4ce6-ae55-b47d391e02e1",
   "metadata": {},
   "source": [
    "***"
   ]
  },
  {
   "cell_type": "markdown",
   "id": "61d8afd7-3ac6-4f00-99fe-55d5c0b2658d",
   "metadata": {},
   "source": [
    "## Q10. Explain the concepts of vectorization and broadcasting in Numpy. How do they contribute to efficient array operations?"
   ]
  },
  {
   "cell_type": "markdown",
   "id": "7912719e-6120-410a-98ca-572ebcd73ab0",
   "metadata": {},
   "source": [
    "### Vectorization :  \n",
    "vectorization technique used in Python an arrayys to implement functions an arrays without using for loops. It is implementing using the numpy module and uses pre-defined functions.  These functions are optimized and reduced the calculation time."
   ]
  },
  {
   "cell_type": "code",
   "execution_count": 75,
   "id": "bb620773-d74e-4bb1-8ff0-0a589f7942a1",
   "metadata": {},
   "outputs": [
    {
     "name": "stdout",
     "output_type": "stream",
     "text": [
      "Sum of the element of arrayy1 and array2 are :\n",
      " [ 3  9 15 21 27 33 39 45]\n"
     ]
    }
   ],
   "source": [
    "import numpy as np\n",
    "arr1=np.arange(1,30,4)\n",
    "arr2=np.array([2,4,6,8,10,12,14,16])\n",
    "def fun(arr1,arr2):\n",
    "    return arr1+arr2\n",
    "vectorization=np.vectorize(fun)\n",
    "print(\"Sum of the element of arrayy1 and array2 are :\\n\",vectorization(arr1,arr2))"
   ]
  },
  {
   "cell_type": "markdown",
   "id": "5fbc60b5-056a-4c4c-9996-e17e28ab8ac7",
   "metadata": {},
   "source": [
    "### Broadcasting :  \n",
    "The term broadcasting refers to the ability of NumPy to treat arrays with different dimensions during arithmetic operation ,This process involves certain rules that allow the similar array to be 'broadcasting ' across the larger one,ensuring that they have compatiable shapes for these operations."
   ]
  },
  {
   "cell_type": "code",
   "execution_count": 76,
   "id": "591df69e-7df5-4bbc-a8ca-a05296e7a1cf",
   "metadata": {},
   "outputs": [
    {
     "name": "stdout",
     "output_type": "stream",
     "text": [
      "original array :\n",
      " [[1 1 1]\n",
      " [1 1 1]\n",
      " [1 1 1]]\n",
      "after adding 5 into array :\n",
      " [[6 6 6]\n",
      " [6 6 6]\n",
      " [6 6 6]]\n",
      "after multiply 24 into array :\n",
      " [[24 24 24]\n",
      " [24 24 24]\n",
      " [24 24 24]]\n",
      "after subtract 5 into array :\n",
      " [[-4 -4 -4]\n",
      " [-4 -4 -4]\n",
      " [-4 -4 -4]]\n"
     ]
    }
   ],
   "source": [
    "import numpy as np\n",
    "a=np.ones((3,3),dtype=int)\n",
    "print(\"original array :\\n\",a)\n",
    "print(\"after adding 5 into array :\\n\",a+5)\n",
    "print(\"after multiply 24 into array :\\n\",(a*24))\n",
    "print(\"after subtract 5 into array :\\n\",a-5)"
   ]
  },
  {
   "cell_type": "markdown",
   "id": "7ada9b31-ae5d-466c-97ca-08fd630d18ca",
   "metadata": {},
   "source": [
    "***"
   ]
  },
  {
   "cell_type": "markdown",
   "id": "0908ed0d-87de-4dc0-991a-4516fafc1e3d",
   "metadata": {},
   "source": [
    "# Practical Question"
   ]
  },
  {
   "cell_type": "markdown",
   "id": "37f78519-10e4-4115-96b0-d6193f54888d",
   "metadata": {},
   "source": [
    "## Q1. Create a 3*3 NumPy array with random integers between 1 and 100 .Then, interchange its rows and columns"
   ]
  },
  {
   "cell_type": "code",
   "execution_count": 77,
   "id": "558f9494-6296-4e58-8913-336629f6e8bf",
   "metadata": {
    "scrolled": true
   },
   "outputs": [
    {
     "name": "stdout",
     "output_type": "stream",
     "text": [
      "array random 3 * 3 with random integers between 1 and 100 :\n",
      " [[91 36  6]\n",
      " [60 95 71]\n",
      " [33 77  2]]\n",
      "interchange its rows and columns of arr: \n",
      " [[91 60 33]\n",
      " [36 95 77]\n",
      " [ 6 71  2]]\n"
     ]
    }
   ],
   "source": [
    "import numpy as np\n",
    "arr=np.random.randint(1,100,size=(3,3))\n",
    "print(\"array random 3 * 3 with random integers between 1 and 100 :\\n\",arr)\n",
    "print(\"interchange its rows and columns of arr: \\n\",arr.T)"
   ]
  },
  {
   "cell_type": "markdown",
   "id": "c6969fb9-3ca0-45ea-bff3-4e3120f3b247",
   "metadata": {},
   "source": [
    "***"
   ]
  },
  {
   "cell_type": "markdown",
   "id": "fac20738-9ccc-4163-acef-843b1500d37e",
   "metadata": {},
   "source": [
    "## Q2. Generate a 1D  NumPy array  with 10 elements Reshape it into a 2 * 5 array, then into a 5 * 2 array"
   ]
  },
  {
   "cell_type": "code",
   "execution_count": 78,
   "id": "78fd8c59-acd6-4af7-9702-0f4fdf294369",
   "metadata": {},
   "outputs": [
    {
     "name": "stdout",
     "output_type": "stream",
     "text": [
      "original array : \n",
      " [ 34  47  51  78  98  34  23  19 340 560]\n",
      "shape of array of arr1 :\n",
      " (10,)\n",
      "array 2 * 5:\n",
      "  [[ 34  47  51  78  98]\n",
      " [ 34  23  19 340 560]]\n",
      "shape of array of arr2 :\n",
      " (2, 5)\n",
      "array 5 * 2:\n",
      "  [[ 34  47]\n",
      " [ 51  78]\n",
      " [ 98  34]\n",
      " [ 23  19]\n",
      " [340 560]]\n",
      "shape of array of arr3 :\n",
      " (5, 2)\n"
     ]
    }
   ],
   "source": [
    "import numpy as np\n",
    "arr1=np.array([34,47,51,78,98,34,23,19,340,560])\n",
    "print(\"original array : \\n\",arr1)\n",
    "print(\"shape of array of arr1 :\\n\",arr1.shape)\n",
    "arr2=arr1.reshape((2,5))\n",
    "print(\"array 2 * 5:\\n \", arr2)\n",
    "print(\"shape of array of arr2 :\\n\",arr2.shape)\n",
    "arr3=arr1.reshape((5,2))\n",
    "print(\"array 5 * 2:\\n \", arr3)\n",
    "print(\"shape of array of arr3 :\\n\",arr3.shape)\n",
    "\n",
    "\n"
   ]
  },
  {
   "cell_type": "markdown",
   "id": "7d78cc01-7136-4f17-af68-bfbaca36a110",
   "metadata": {},
   "source": [
    "## Q3. Create a 4 * 4 NumPy array with random float values .Add a border of zeros arround it, resluiting in a 6 * 6 array"
   ]
  },
  {
   "cell_type": "code",
   "execution_count": 79,
   "id": "d86099f7-912f-48d7-97e5-c918b265c050",
   "metadata": {},
   "outputs": [
    {
     "name": "stdout",
     "output_type": "stream",
     "text": [
      "Add a border of zeros arround it, resluiting in a 6 * 6 array:\n",
      " [[0.         0.         0.         0.         0.         0.        ]\n",
      " [0.         0.95906793 0.26374306 0.75988971 0.23916466 0.        ]\n",
      " [0.         0.18141066 0.49838017 0.5043104  0.5068496  0.        ]\n",
      " [0.         0.66623679 0.1668673  0.08334955 0.62444328 0.        ]\n",
      " [0.         0.44007851 0.96466477 0.43411352 0.01702889 0.        ]\n",
      " [0.         0.         0.         0.         0.         0.        ]]\n",
      "shape of array: (6, 6)\n"
     ]
    }
   ],
   "source": [
    "import numpy as np\n",
    "arr = np.random.random((4,4))\n",
    "arr2= np.pad(arr,pad_width=1, mode='constant',constant_values=0)\n",
    "print(\"Add a border of zeros arround it, resluiting in a 6 * 6 array:\\n\",arr2)\n",
    "print(\"shape of array:\",arr2.shape)"
   ]
  },
  {
   "cell_type": "markdown",
   "id": "f2912889-1300-464a-92b8-5a57df873b94",
   "metadata": {},
   "source": [
    "## Q4. Using NumPy  create an array of integers from 10 to 60 with a step 5."
   ]
  },
  {
   "cell_type": "code",
   "execution_count": 80,
   "id": "31e94f0c-301f-4a79-9e7e-51260c75561c",
   "metadata": {},
   "outputs": [
    {
     "name": "stdout",
     "output_type": "stream",
     "text": [
      "create an array of integers from 10 to 60 with a step 5 :\n",
      " [10 15 20 25 30 35 40 45 50 55]\n"
     ]
    }
   ],
   "source": [
    "import numpy as np\n",
    "arr=np.arange(10,60,5)\n",
    "print(\"create an array of integers from 10 to 60 with a step 5 :\\n\",arr)\n"
   ]
  },
  {
   "cell_type": "markdown",
   "id": "88f10522-f399-4dcd-a323-23384cf8bfc5",
   "metadata": {},
   "source": [
    "## Q5. Create a NumPy array of Strings['python,'numpy','pandas'].Apply different cases transormations (uppercase ,lowercase,title case etc) to each element."
   ]
  },
  {
   "cell_type": "code",
   "execution_count": 81,
   "id": "c797376b-5672-42e0-a6f3-6539ad531552",
   "metadata": {},
   "outputs": [
    {
     "name": "stdout",
     "output_type": "stream",
     "text": [
      "original array :\n",
      ": ['python' 'numpy' 'pandas']\n",
      "uppercase of string in array : ['PYTHON' 'NUMPY' 'PANDAS']\n",
      "lowercase of string in array : ['python' 'numpy' 'pandas']\n",
      "title case of string in array : ['Python' 'Numpy' 'Pandas']\n",
      "capitalise of string in array : ['Python' 'Numpy' 'Pandas']\n"
     ]
    }
   ],
   "source": [
    "import numpy as np \n",
    "arr=np.asarray(['python','numpy','pandas'] ,dtype = str)\n",
    "print(\"original array :\\n:\",arr)\n",
    "print(\"uppercase of string in array :\",np.char.upper(arr))\n",
    "print(\"lowercase of string in array :\",np.char.lower(arr))\n",
    "print(\"title case of string in array :\",np.char.title(arr))\n",
    "print(\"capitalise of string in array :\",np.char.capitalize(arr))\n"
   ]
  },
  {
   "cell_type": "markdown",
   "id": "f0ac8959-2ac4-4eed-9037-07fad720e1de",
   "metadata": {},
   "source": [
    "***"
   ]
  },
  {
   "cell_type": "markdown",
   "id": "c901af2e-c4c6-4f78-aea6-a3ea2963eddb",
   "metadata": {},
   "source": [
    "## Q6. Generate a NumPy array of words .Insert a space between each character of every word in tha array."
   ]
  },
  {
   "cell_type": "code",
   "execution_count": 82,
   "id": "89cf2d65-c92f-4cca-910c-038c5ca558ac",
   "metadata": {},
   "outputs": [
    {
     "name": "stdout",
     "output_type": "stream",
     "text": [
      "Insert a space between each character of every word in tha array.¶: ['R  a  m' 'S  i  t  a' 'G  i  t  a' 'M  o  h  a  n' 'S  o  h  a  n']\n"
     ]
    }
   ],
   "source": [
    "import numpy as np \n",
    "arr= np.asarray([\"Ram\",\"Sita\",\"Gita\",\"Mohan\",\"Sohan\"],dtype=str)\n",
    "print(\"Insert a space between each character of every word in tha array.¶:\",np.char.join(\"  \",arr))"
   ]
  },
  {
   "cell_type": "markdown",
   "id": "c7742cbb-9606-4d49-8c5f-90476e204e76",
   "metadata": {},
   "source": [
    "***"
   ]
  },
  {
   "cell_type": "markdown",
   "id": "68f84425-d404-4484-9c99-e8b109219ec5",
   "metadata": {},
   "source": [
    "## Q7. Create two 2D Numpy array and perform element-wise addition ,subtraction,multiplication and division."
   ]
  },
  {
   "cell_type": "code",
   "execution_count": 83,
   "id": "e5404105-1225-44d1-87fb-e6fd22fd1e28",
   "metadata": {},
   "outputs": [
    {
     "name": "stdout",
     "output_type": "stream",
     "text": [
      "first array:\n",
      " [[2 4]\n",
      " [4 3]]\n",
      "second array:\n",
      " [[1 6]\n",
      " [5 9]]\n",
      "addition of two array:\n",
      " [[ 3 10]\n",
      " [ 9 12]]\n",
      "subtracti onof two array:\n",
      " [[ 1 -2]\n",
      " [-1 -6]]\n",
      "multiplication  of two array:\n",
      " [[22 48]\n",
      " [19 51]]\n",
      "division of two array:\n",
      " [[2.         0.66666667]\n",
      " [0.8        0.33333333]]\n"
     ]
    }
   ],
   "source": [
    "import numpy as np \n",
    "arr1=np.random.randint(1,5,size=(2,2))\n",
    "print(\"first array:\\n\",arr1)\n",
    "arr2=np.random.randint(1,10,size=(2,2))\n",
    "print(\"second array:\\n\",arr2)\n",
    "print(\"addition of two array:\\n\",np.add(arr1,arr2))\n",
    "print(\"subtracti onof two array:\\n\",np.subtract(arr1,arr2))\n",
    "print(\"multiplication  of two array:\\n\",np.dot(arr1,arr2))\n",
    "print(\"division of two array:\\n\",np.divide(arr1,arr2))\n"
   ]
  },
  {
   "cell_type": "markdown",
   "id": "8eaf323f-fc52-4db6-a5b0-bf5adc50acb8",
   "metadata": {},
   "source": [
    "***"
   ]
  },
  {
   "cell_type": "markdown",
   "id": "89b18423-7c51-45fd-b470-ae30261ffcc4",
   "metadata": {},
   "source": [
    "## Q8. Use NumPy to create a 5 * 5 identity matrix ,then extract its diagonal elements"
   ]
  },
  {
   "cell_type": "code",
   "execution_count": 84,
   "id": "579434d1-5267-43b3-86f8-dfeacd277123",
   "metadata": {},
   "outputs": [
    {
     "name": "stdout",
     "output_type": "stream",
     "text": [
      "identity matrix :\n",
      " [[1 0 0 0 0]\n",
      " [0 1 0 0 0]\n",
      " [0 0 1 0 0]\n",
      " [0 0 0 1 0]\n",
      " [0 0 0 0 1]]\n"
     ]
    }
   ],
   "source": [
    "import numpy as np\n",
    "a=np.eye(5,5,dtype=int)\n",
    "print(\"identity matrix :\\n\",a)"
   ]
  },
  {
   "cell_type": "code",
   "execution_count": 85,
   "id": "979abcc8-25d9-49ab-b0e5-c4a6eff04383",
   "metadata": {},
   "outputs": [
    {
     "name": "stdout",
     "output_type": "stream",
     "text": [
      "identity matrix :\n",
      " [[1 0 0 0 0]\n",
      " [0 1 0 0 0]\n",
      " [0 0 1 0 0]\n",
      " [0 0 0 1 0]\n",
      " [0 0 0 0 1]]\n"
     ]
    }
   ],
   "source": [
    "import numpy as np\n",
    "arr=np.diag([1,1,1,1,1])\n",
    "print(\"identity matrix :\\n\",arr)"
   ]
  },
  {
   "cell_type": "markdown",
   "id": "5793b0fd-0669-4e04-8b9b-09286ddd2f44",
   "metadata": {},
   "source": [
    "***"
   ]
  },
  {
   "cell_type": "markdown",
   "id": "cb1743c2-61f7-4fd2-a747-74fca7e23bc3",
   "metadata": {},
   "source": [
    "## Q9. Generate a NumPy array of 100 random integers between 0 to 1000 . Find and display all prime numbers in this array."
   ]
  },
  {
   "cell_type": "code",
   "execution_count": 86,
   "id": "5156670f-1520-4651-a08e-c5a942b1b784",
   "metadata": {},
   "outputs": [
    {
     "name": "stdout",
     "output_type": "stream",
     "text": [
      "Generate a NumPy array of 100 random integers between 0 to 1000:\n",
      "\n",
      "  [583 324 116 637 759 506 266  99 964  10 209 402 389 659   3 289 546 675\n",
      " 220 606  39 672 923 142  14 280  63 731 246 883  89 909 472 615 625 912\n",
      "  89 354 584 330 486 830 951  25 351 651 898 912 884 484 346 984 382 841\n",
      " 731 307 368 442 144 997 339 998 200 493 961 641  82 250 504 191 341 734\n",
      " 373 744 593 743 183 788 163 726 122 490 561 130 924 208 229 883 747  39\n",
      " 347 933 127 279 138 147 288 868 166 114]\n",
      "\n",
      "\n",
      "*****************************************************************\n",
      "display all prime numbers in this array.:\n",
      "\n",
      " [389 659   3 883  89  89 307 997 641 191 373 593 743 163 229 883 347 127]\n"
     ]
    }
   ],
   "source": [
    "def is_prime(n):\n",
    "    if n==0 or n==1:\n",
    "        return False\n",
    "    for i in range(2,n//2+1):\n",
    "        if n% i== 0:\n",
    "           return False\n",
    "    return True\n",
    "import numpy as np \n",
    "a=np.random.randint(0,1000, 100)\n",
    "foo = np.vectorize(is_prime)\n",
    "pbools = foo(a)\n",
    "primes = np.extract(pbools, a)\n",
    "print(\"Generate a NumPy array of 100 random integers between 0 to 1000:\\n\\n \",a)\n",
    "print(\"\\n\")\n",
    "print(\"*****************************************************************\")\n",
    "print(\"display all prime numbers in this array.:\\n\\n\",primes)\n",
    "       "
   ]
  },
  {
   "cell_type": "markdown",
   "id": "3cfc4ab3-5ba6-4b90-8af1-bed11019c187",
   "metadata": {},
   "source": [
    "***"
   ]
  },
  {
   "cell_type": "code",
   "execution_count": 87,
   "id": "11968f4d-f671-46f5-9f46-7930bb9967de",
   "metadata": {},
   "outputs": [
    {
     "name": "stdout",
     "output_type": "stream",
     "text": [
      "Generate a NumPy array of 100 random integers between 0 to 1000:\n",
      "\n",
      "  [321 265 277 764 425 427 821 661  18 244 171  70 706 714 596 347 692 343\n",
      " 609 187  49 910 236 346  52 834 163 433 279 368 591 415 308 378 988 952\n",
      " 638 629 100 802 847 167 479  85 431 277 728  35 917 728 965  37 901  56\n",
      " 734  35 744 978 724 391 325 540 392 481 902 187 625 498 427 199 528 720\n",
      " 106 516 704 196 590  58 333 842 967 182 356 923 906 131 376 804 257 511\n",
      " 796 470 213 588 926 848 678 342 101  68]\n",
      "\n",
      "\n",
      "*****************************************************************\n",
      "display all prime numbers in this array.:\n",
      "\n",
      " [277 821 661 347 163 433 167 479 431 277  37 199 967 131 257 101]\n"
     ]
    }
   ],
   "source": [
    "import numpy as np\n",
    "import math\n",
    "\n",
    "def is_prime(n):\n",
    "    if n % 2 == 0 and n > 2: \n",
    "        return False\n",
    "    return all(n % i for i in range(3, int(math.sqrt(n)) + 1, 2))\n",
    "\n",
    "a = np.random.randint(1, 10**3,100)\n",
    "pbools =np.array([is_prime(x) for x in a])\n",
    "primes = np.extract(pbools, a)\n",
    "print(\"Generate a NumPy array of 100 random integers between 0 to 1000:\\n\\n \",a)\n",
    "print(\"\\n\")\n",
    "print(\"*****************************************************************\")\n",
    "print(\"display all prime numbers in this array.:\\n\\n\",primes)\n"
   ]
  },
  {
   "cell_type": "markdown",
   "id": "2a51fac2-a5ca-4e67-883b-8a397e0be99b",
   "metadata": {},
   "source": [
    "***"
   ]
  },
  {
   "cell_type": "markdown",
   "id": "b4d6ac88-bcf9-434f-8985-21b717778cb3",
   "metadata": {},
   "source": [
    "## Q10. Create a NumPy array representing daily temperatures for a month . Calculate and display the weekly averages."
   ]
  },
  {
   "cell_type": "code",
   "execution_count": 88,
   "id": "aeca2092-1785-49e5-9c68-4b8bd5416d8b",
   "metadata": {},
   "outputs": [
    {
     "name": "stdout",
     "output_type": "stream",
     "text": [
      "daily temperature of month:\n",
      "\n",
      " [43.32464061 64.03899751 87.21335925 52.3044887  60.55893557 93.71970357\n",
      " 25.54702843 63.54859243 27.21276115 30.88222373 25.71385496 27.51188372\n",
      " 64.65710653 90.46744743 78.55078909 56.88767813 69.79910734 96.76831858\n",
      " 78.78702751 62.68943521 53.84466876 89.87050096 96.48963701 77.12143491\n",
      " 93.90523342 77.14786877 58.46079921 71.90522158]\n",
      "---------------------------------------------------\n",
      "weekly temperature in month :\n",
      "\n",
      " [[43.32464061 64.03899751 87.21335925 52.3044887  60.55893557 93.71970357\n",
      "  25.54702843]\n",
      " [63.54859243 27.21276115 30.88222373 25.71385496 27.51188372 64.65710653\n",
      "  90.46744743]\n",
      " [78.55078909 56.88767813 69.79910734 96.76831858 78.78702751 62.68943521\n",
      "  53.84466876]\n",
      " [89.87050096 96.48963701 77.12143491 93.90523342 77.14786877 58.46079921\n",
      "  71.90522158]]\n",
      "---------------------------------------------------\n",
      "display the weekly averages : 64.96174085979555\n"
     ]
    }
   ],
   "source": [
    "import numpy as np\n",
    "import pandas as pd\n",
    "temperature=np.random.uniform(25,100,28)\n",
    "temp_weekly=temperature.reshape(4,7)\n",
    "print(\"daily temperature of month:\\n\\n\",temperature)\n",
    "print(\"---------------------------------------------------\")\n",
    "print(\"weekly temperature in month :\\n\\n\",temp_weekly)\n",
    "print(\"---------------------------------------------------\")\n",
    "print(\"display the weekly averages :\",temp_weekly.mean())\n",
    "\n",
    "\n"
   ]
  },
  {
   "cell_type": "markdown",
   "id": "60f611d0-48bb-4d0a-9323-a7e2e2a6e61b",
   "metadata": {},
   "source": []
  },
  {
   "cell_type": "markdown",
   "id": "d1c053e2-6ea3-484a-9c96-435ea795df24",
   "metadata": {},
   "source": [
    "***"
   ]
  }
 ],
 "metadata": {
  "kernelspec": {
   "display_name": "Python 3 (ipykernel)",
   "language": "python",
   "name": "python3"
  },
  "language_info": {
   "codemirror_mode": {
    "name": "ipython",
    "version": 3
   },
   "file_extension": ".py",
   "mimetype": "text/x-python",
   "name": "python",
   "nbconvert_exporter": "python",
   "pygments_lexer": "ipython3",
   "version": "3.12.4"
  }
 },
 "nbformat": 4,
 "nbformat_minor": 5
}
